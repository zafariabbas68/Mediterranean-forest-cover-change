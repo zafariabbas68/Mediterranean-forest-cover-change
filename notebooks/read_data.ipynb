{
 "cells": [
  {
   "cell_type": "code",
   "execution_count": null,
   "id": "initial_id",
   "metadata": {
    "collapsed": true
   },
   "outputs": [],
   "source": [
    "import pandas as pd\n",
    "from IPython.display import display\n",
    "\n",
    "# Read the CSV file\n",
    "df = pd.read_csv(\"land_cover_stats.csv\")\n",
    "\n",
    "# Function to format the DataFrame display\n",
    "def format_stats(df):\n",
    "    # Format numbers with thousands separators and 2 decimal places\n",
    "    formatted_df = df.copy()\n",
    "    if 'Area_km2' in df.columns:\n",
    "        formatted_df['Area_km2'] = formatted_df['Area_km2'].apply(lambda x: f\"{x:,.2f}\")\n",
    "    if 'count' in df.columns:\n",
    "        formatted_df['count'] = formatted_df['count'].apply(lambda x: f\"{int(x):,}\")\n",
    "    if 'pct' in df.columns:\n",
    "        formatted_df['pct'] = formatted_df['pct'].apply(lambda x: f\"{x:.2f}%\")\n",
    "    \n",
    "    return formatted_df\n",
    "\n",
    "# Display the data by year in nicely formatted tables\n",
    "for year in sorted(df['Year'].unique()):\n",
    "    year_data = df[df['Year'] == year]\n",
    "    if not year_data.empty:\n",
    "        # Calculate percentages if not already in data\n",
    "        if 'pct' not in year_data.columns:\n",
    "            total_area = year_data['Area_km2'].sum()\n",
    "            year_data['pct'] = (year_data['Area_km2'] / total_area) * 100\n",
    "        \n",
    "        # Sort by area descending\n",
    "        year_data = year_data.sort_values('Area_km2', ascending=False)\n",
    "        \n",
    "        # Format the display\n",
    "        formatted_data = format_stats(year_data)\n",
    "        \n",
    "        # Display with a title\n",
    "        print(f\"\\n\\033[1mSample Statistics for {year}:\\033[0m\")\n",
    "        display(formatted_data[['Class', 'count', 'Area_km2', 'pct']].style\n",
    "                .set_properties(**{'text-align': 'left'})\n",
    "                .set_table_styles([{\n",
    "                    'selector': 'th',\n",
    "                    'props': [('background-color', '#f7f7f7'),\n",
    "                             ('font-weight', 'bold'),\n",
    "                             ('text-align', 'center')]\n",
    "                }])\n",
    "                .format(precision=2))\n",
    "\n",
    "        "
   ]
  }
 ],
 "metadata": {
  "kernelspec": {
   "display_name": "Python 3",
   "language": "python",
   "name": "python3"
  },
  "language_info": {
   "codemirror_mode": {
    "name": "ipython",
    "version": 2
   },
   "file_extension": ".py",
   "mimetype": "text/x-python",
   "name": "python",
   "nbconvert_exporter": "python",
   "pygments_lexer": "ipython2",
   "version": "2.7.6"
  }
 },
 "nbformat": 4,
 "nbformat_minor": 5
}
